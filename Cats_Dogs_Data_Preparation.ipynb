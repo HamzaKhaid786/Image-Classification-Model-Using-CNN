{
 "cells": [
  {
   "cell_type": "code",
   "execution_count": null,
   "id": "22b4ec10-0b47-4b7e-b3f3-6f49be7c0a3b",
   "metadata": {},
   "outputs": [],
   "source": [
    "import os\n",
    "import zipfile"
   ]
  },
  {
   "cell_type": "code",
   "execution_count": null,
   "id": "34740ae4-5759-42ed-ab6e-540b954a9675",
   "metadata": {},
   "outputs": [],
   "source": [
    "dataset_file_path = 'dogs_vs_cats.zip'"
   ]
  },
  {
   "cell_type": "code",
   "execution_count": null,
   "id": "fa7f083d-3b63-495d-af1e-3fef352274ca",
   "metadata": {},
   "outputs": [],
   "source": [
    "extraction_path = 'extracted_data'"
   ]
  },
  {
   "cell_type": "code",
   "execution_count": null,
   "id": "17fc8058-8d72-4aec-bd89-1a43788b793c",
   "metadata": {},
   "outputs": [],
   "source": [
    "# Create the extraction directory if it doesn't exist\n",
    "os.makedirs(extraction_path, exist_ok=True)\n",
    "\n",
    "# Extract the \"train.zip\" file\n",
    "with zipfile.ZipFile(os.path.join(dataset_file_path, \"train.zip\"), \"r\") as zip_ref:\n",
    "    zip_ref.extractall(os.path.join(extraction_path, \"train\"))\n",
    "\n",
    "# Extract the \"test.zip\" file\n",
    "with zipfile.ZipFile(os.path.join(dataset_file_path, \"test.zip\"), \"r\") as zip_ref:\n",
    "    zip_ref.extractall(os.path.join(extraction_path, \"test\"))\n",
    "\n",
    "print(\"Dataset extracted successfully.\")"
   ]
  },
  {
   "cell_type": "code",
   "execution_count": null,
   "id": "bd1ed6eb-8d5b-421e-b0ca-8e4cc3bf7e85",
   "metadata": {},
   "outputs": [],
   "source": [
    "import random\n",
    "import shutil\n",
    "\n",
    "# Specify paths for train and test directories\n",
    "train_dir = 'train_data'  # Replace with your desired train directory\n",
    "test_dir = 'test_data'  # Replace with your desired test directory\n",
    "\n",
    "# Create train and test directories if they don't exist\n",
    "os.makedirs(train_dir, exist_ok=True)\n",
    "os.makedirs(test_dir, exist_ok=True)\n",
    "\n",
    "# Shuffle the preprocessed images\n",
    "random.shuffle(preprocessed_images)\n",
    "\n",
    "# Define the split ratio (e.g., 80% train, 20% test)\n",
    "split_ratio = 0.8\n",
    "split_index = int(len(preprocessed_images) * split_ratio)\n",
    "\n",
    "# Move images to train directory\n",
    "for img in preprocessed_images[:split_index]:\n",
    "    shutil.move(os.path.join(data_dir, filename), os.path.join(train_dir, filename))\n",
    "\n",
    "# Move images to test directory\n",
    "for img in preprocessed_images[split_index:]:\n",
    "    shutil.move(os.path.join(data_dir, filename), os.path.join(test_dir, filename))"
   ]
  }
 ],
 "metadata": {
  "kernelspec": {
   "display_name": "Python 3 (ipykernel)",
   "language": "python",
   "name": "python3"
  },
  "language_info": {
   "codemirror_mode": {
    "name": "ipython",
    "version": 3
   },
   "file_extension": ".py",
   "mimetype": "text/x-python",
   "name": "python",
   "nbconvert_exporter": "python",
   "pygments_lexer": "ipython3",
   "version": "3.9.13"
  }
 },
 "nbformat": 4,
 "nbformat_minor": 5
}
